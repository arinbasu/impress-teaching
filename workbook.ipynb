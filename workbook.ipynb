{
 "cells": [
  {
   "cell_type": "code",
   "execution_count": null,
   "metadata": {},
   "outputs": [],
   "source": [
    "library(tidyverse)"
   ]
  },
  {
   "cell_type": "markdown",
   "metadata": {},
   "source": [
    "# {#overview .step data-scale=10}\n",
    "\n",
    "# This is a step {.step}\n",
    "\n",
    "This is a statement with **bold** font\n",
    "\n",
    "# {.step data-x=2000}\n",
    "\n",
    "This is a plain statement\n",
    "\n",
    "# {.step data-rotate=90}\n",
    "\n",
    "This is another **statement**"
   ]
  }
 ],
 "metadata": {
  "kernelspec": {
   "display_name": "R",
   "language": "R",
   "name": "ir"
  },
  "language_info": {
   "codemirror_mode": "r",
   "file_extension": ".r",
   "mimetype": "text/x-r-source",
   "name": "R",
   "pygments_lexer": "r",
   "version": "3.5.1"
  }
 },
 "nbformat": 4,
 "nbformat_minor": 2
}
